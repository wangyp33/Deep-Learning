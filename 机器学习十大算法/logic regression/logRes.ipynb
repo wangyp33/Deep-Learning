{
 "cells": [
  {
   "cell_type": "code",
   "execution_count": 7,
   "id": "987cef9c",
   "metadata": {},
   "outputs": [
    {
     "data": {
      "image/png": "[encoded data removed]",
      "text/plain": [
       "<Figure size 576x432 with 1 Axes>"
      ]
     },
     "metadata": {},
     "output_type": "display_data"
    }
   ],
   "source": [
    "import matplotlib.pyplot as plt\n",
    "import numpy as np\n",
    "from sklearn.datasets import load_iris   \n",
    "from sklearn.linear_model import LogisticRegression \n",
    " \n",
    "#载入数据集\n",
    "iris = load_iris()         \n",
    "X = X = iris.data[:, 2:4]   #获取花卉后两列数据集\n",
    "Y = iris.target           \n",
    " \n",
    "#逻辑回归模型\n",
    "lr = LogisticRegression(C=1e5)  \n",
    "lr.fit(X,Y)\n",
    " \n",
    "#meshgrid函数生成两个网格矩阵\n",
    "h = .02\n",
    "x_min, x_max = X[:, 0].min() - .5, X[:, 0].max() + .5\n",
    "y_min, y_max = X[:, 1].min() - .5, X[:, 1].max() + .5\n",
    "xx, yy = np.meshgrid(np.arange(x_min, x_max, h), np.arange(y_min, y_max, h))\n",
    " \n",
    "#pcolormesh函数将xx,yy两个网格矩阵和对应的预测结果Z绘制在图片上\n",
    "Z = lr.predict(np.c_[xx.ravel(), yy.ravel()])\n",
    "Z = Z.reshape(xx.shape)\n",
    "plt.figure(1, figsize=(8,6))\n",
    "plt.pcolormesh(xx, yy, Z, cmap=plt.cm.Paired)\n",
    " \n",
    "#绘制散点图\n",
    "plt.scatter(X[:50,0], X[:50,1], color='red',marker='o', label='setosa')\n",
    "plt.scatter(X[50:100,0], X[50:100,1], color='yellow', marker='x', label='versicolor')\n",
    "plt.scatter(X[100:,0], X[100:,1], color='blue', marker='s', label='Virginica') \n",
    " \n",
    "plt.xlabel('Petal length')\n",
    "plt.ylabel('Petal width')\n",
    "plt.xlim(xx.min(), xx.max())\n",
    "plt.ylim(yy.min(), yy.max())\n",
    "plt.xticks(())\n",
    "plt.yticks(())\n",
    "plt.legend(loc=1) \n",
    "plt.show()"
   ]
  },
  {
   "cell_type": "code",
   "execution_count": null,
   "id": "4da8aba1",
   "metadata": {},
   "outputs": [],
   "source": []
  }
 ],
 "metadata": {
  "kernelspec": {
   "display_name": "Python 3 (ipykernel)",
   "language": "python",
   "name": "python3"
  },
  "language_info": {
   "codemirror_mode": {
    "name": "ipython",
    "version": 3
   },
   "file_extension": ".py",
   "mimetype": "text/x-python",
   "name": "python",
   "nbconvert_exporter": "python",
   "pygments_lexer": "ipython3",
   "version": "3.9.12"
  }
 },
 "nbformat": 4,
 "nbformat_minor": 5
}
