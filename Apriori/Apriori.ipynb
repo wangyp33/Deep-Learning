{
 "cells": [
  {
   "cell_type": "code",
   "execution_count": 2,
   "id": "02bfb8e8",
   "metadata": {},
   "outputs": [
    {
     "ename": "NameError",
     "evalue": "name 'records' is not defined",
     "output_type": "error",
     "traceback": [
      "\u001b[1;31m---------------------------------------------------------------------------\u001b[0m",
      "\u001b[1;31mNameError\u001b[0m                                 Traceback (most recent call last)",
      "Input \u001b[1;32mIn [2]\u001b[0m, in \u001b[0;36m<cell line: 14>\u001b[1;34m()\u001b[0m\n\u001b[0;32m     12\u001b[0m te \u001b[38;5;241m=\u001b[39m TransactionEncoder()\n\u001b[0;32m     13\u001b[0m \u001b[38;5;66;03m#进行 one-hot 编码\u001b[39;00m\n\u001b[1;32m---> 14\u001b[0m te_ary \u001b[38;5;241m=\u001b[39m te\u001b[38;5;241m.\u001b[39mfit(\u001b[43mrecords\u001b[49m)\u001b[38;5;241m.\u001b[39mtransform(records)\n\u001b[0;32m     15\u001b[0m df \u001b[38;5;241m=\u001b[39m pd\u001b[38;5;241m.\u001b[39mDataFrame(te_ary, columns\u001b[38;5;241m=\u001b[39mte\u001b[38;5;241m.\u001b[39mcolumns_)\n\u001b[0;32m     16\u001b[0m \u001b[38;5;66;03m#利用 Apriori 找出频繁项集\u001b[39;00m\n",
      "\u001b[1;31mNameError\u001b[0m: name 'records' is not defined"
     ]
    }
   ],
   "source": [
    "import pandas as pd\n",
    "from mlxtend.preprocessing import TransactionEncoder\n",
    "from mlxtend.frequent_patterns import apriori\n",
    "\n",
    "#设置数据集\n",
    "dataset = [['牛奶','洋葱','肉豆蔻','芸豆','鸡蛋','酸奶'],\n",
    "        ['莳萝','洋葱','肉豆蔻','芸豆','鸡蛋','酸奶'],\n",
    "        ['牛奶','苹果','芸豆','鸡蛋'],\n",
    "        ['牛奶','独角兽','玉米','芸豆','酸奶'],\n",
    "        ['玉米','洋葱','洋葱','芸豆','冰淇淋','鸡蛋']]\n",
    "        \n",
    "te = TransactionEncoder()\n",
    "#进行 one-hot 编码\n",
    "te_ary = te.fit(records).transform(records)\n",
    "df = pd.DataFrame(te_ary, columns=te.columns_)\n",
    "#利用 Apriori 找出频繁项集\n",
    "freq = apriori(df, min_support=0.05, use_colnames=True)"
   ]
  },
  {
   "cell_type": "code",
   "execution_count": null,
   "id": "c7ca17a0",
   "metadata": {},
   "outputs": [],
   "source": []
  }
 ],
 "metadata": {
  "kernelspec": {
   "display_name": "Python 3 (ipykernel)",
   "language": "python",
   "name": "python3"
  },
  "language_info": {
   "codemirror_mode": {
    "name": "ipython",
    "version": 3
   },
   "file_extension": ".py",
   "mimetype": "text/x-python",
   "name": "python",
   "nbconvert_exporter": "python",
   "pygments_lexer": "ipython3",
   "version": "3.9.12"
  }
 },
 "nbformat": 4,
 "nbformat_minor": 5
}
